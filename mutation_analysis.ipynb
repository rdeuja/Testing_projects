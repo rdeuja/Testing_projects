{
 "cells": [
  {
   "cell_type": "code",
   "execution_count": 23,
   "metadata": {},
   "outputs": [],
   "source": [
    "#A function that we are supposed to analyze\n",
    "def median(a, b, c, d, e):\n",
    "    if(a > b):\n",
    "        a, b = b, a\n",
    "    if(c > d):\n",
    "        c, d = d, c\n",
    "    if(a < c):\n",
    "        a = e\n",
    "        if (a > b):\n",
    "            a, b = b, a\n",
    "    else:\n",
    "        c = e\n",
    "        if (c > d):\n",
    "            c, d = d, c\n",
    "    if(a < c):\n",
    "        if b > c:\n",
    "            return c\n",
    "        else:\n",
    "            return b\n",
    "    else:\n",
    "        if(d > a):\n",
    "            return a\n",
    "        else:\n",
    "            return d"
   ]
  },
  {
   "cell_type": "markdown",
   "metadata": {},
   "source": [
    "1. Construct a test suite with 5 test cases for median.py. A test suite is a set of test cases (inputs and their expected output)."
   ]
  },
  {
   "cell_type": "code",
   "execution_count": 25,
   "metadata": {},
   "outputs": [],
   "source": [
    "import numpy as np\n",
    "import random\n",
    "# tst_suite_1= [random.randint(0,10) for i in range(5)] # [[random.randint(0,10) for i in range(5)] for j in range(5)]\n",
    "tst_suite_1=(1, 2, 4, 1, 1)"
   ]
  },
  {
   "cell_type": "markdown",
   "metadata": {},
   "source": [
    "2. Construct the smallest test suite that covers all the statements in median.py (~6 test cases). You can do this manually. Bonus points for doing it this automatically by using the exercise on coverage"
   ]
  },
  {
   "cell_type": "code",
   "execution_count": 26,
   "metadata": {},
   "outputs": [],
   "source": [
    "#Create a fuzzer with random integers\n",
    "def fuzzer():\n",
    "    out = tuple(np.random.randint(10, size=5))\n",
    "    return out"
   ]
  },
  {
   "cell_type": "code",
   "execution_count": 27,
   "metadata": {},
   "outputs": [
    {
     "name": "stdout",
     "output_type": "stream",
     "text": [
      "Covered lines: {2, 3, 4, 5, 6, 7, 8, 9, 11, 12, 13, 14, 15, 16, 18, 20, 21, 23}\n",
      "Test suite:  [(2, 1, 6, 8, 8), (4, 8, 9, 2, 0), (5, 3, 4, 0, 7), (3, 4, 9, 4, 4), (5, 7, 3, 3, 8), (9, 8, 5, 5, 8), (1, 3, 9, 4, 5), (3, 1, 4, 2, 6), (9, 1, 1, 5, 4), (6, 3, 0, 8, 2), (5, 5, 9, 0, 8)]\n"
     ]
    }
   ],
   "source": [
    "# median(*ts[1]) #tuple(list)\n",
    "import sys\n",
    "import inspect\n",
    "from fuzzingbook.ExpectError import ExpectTimeout\n",
    "\n",
    "coverage = []\n",
    "def traceit(frame, event, arg):\n",
    "    if event == \"line\":\n",
    "        global coverage\n",
    "        function_name = frame.f_code.co_name\n",
    "        lineno = frame.f_lineno\n",
    "        coverage.append(lineno)\n",
    "    return traceit\n",
    "\n",
    "def runner():\n",
    "    global coverage\n",
    "    tst_suite_2 = []\n",
    "    covered_lines = {}\n",
    "    code = inspect.getsource(median)\n",
    "    code_lines = [\"\"] + code.splitlines()\n",
    "    while (len(covered_lines) < len(code_lines)-6):\n",
    "        #lines 0,1,11,18,20 won't be registered for traceit\n",
    "        inputs = fuzzer()\n",
    "        tst_suite_2.append(inputs)\n",
    "        coverage = []\n",
    "        sys.settrace(traceit)  \n",
    "        run = median(inputs[0], inputs[1], inputs[2], inputs[3], inputs[4])\n",
    "        sys.settrace(None)\n",
    "        coverage = set(coverage)\n",
    "        covered_lines = coverage.union(covered_lines)\n",
    "    print(\"Covered lines: {}\".format(covered_lines))\n",
    "    print(\"Test suite: \", tst_suite_2)\n",
    "    return tst_suite_2\n",
    "\n",
    "tst_suite_2 = runner()\n",
    "tst_suite_2 = [(2,1,1,1,1), (1,2,4,1,1), (1,1,2,3,1), (1,1,1,2,1), (1,1,1,1,2), (1,1,1,1,1), (2,1,3,4,5)]\n",
    "# code = inspect.getsource(median)\n",
    "# code_lines = [\"\"] + code.splitlines()\n",
    "# for i in range(0,len(code_lines)):\n",
    "#     print(\"{} {}\".format(i, code_lines[i]))\n"
   ]
  },
  {
   "cell_type": "markdown",
   "metadata": {},
   "source": [
    "3. Manually mutate median.py to inject bugs and run both test suites in 1 and 2. A good test suite should be able to detect as many bugs as possible. (see mutation score in mutation analysis chapter). Try to introduce one bug at a time to see the quality of your test suites. Create at least 10 mutants. What is the mutation score for each test suite. "
   ]
  },
  {
   "cell_type": "code",
   "execution_count": 29,
   "metadata": {},
   "outputs": [],
   "source": [
    "#(1, 2, 4, 1, 1)\n",
    "def faulty_median(a, b, c, d, e):\n",
    "    if(a < b): #Injected fault < in place of >\n",
    "        a, b = b, e  #Injected fault e in place of a\n",
    "    if(c > d):\n",
    "        c, d = 1, 1 #Injected fault 1 in place of  d,c\n",
    "    if(a < c):\n",
    "        a = a #Injected fault a in place of e\n",
    "        if (a < b): #Injected fault < in place of a > b\n",
    "            a, b = b, a \n",
    "    else:\n",
    "        c > e # Injected fault > in place of =\n",
    "        if (c < d): #Injected fault  < in place of >\n",
    "            c, d = d, c\n",
    "    if(a < c):\n",
    "        if b > c:\n",
    "            return c\n",
    "        else:\n",
    "            return a #Injected fault None in place of return c\n",
    "    else:\n",
    "        if(d > a):\n",
    "            return None #Injected fault None in place of return a\n",
    "        else:\n",
    "            pass #Injected fault pass in place of return d"
   ]
  },
  {
   "cell_type": "code",
   "execution_count": 38,
   "metadata": {},
   "outputs": [],
   "source": [
    "#Here are a few test cases to ensure that the program works.\n",
    "def weak_oracle(fmedian):\n",
    "    assert fmedian(*tst_suite_1) == median(*tst_suite_1)\n",
    "\n",
    "def strong_oracle(fmedian):\n",
    "    for i in tst_suite_2:\n",
    "        assert fmedian(*i) == median(*i) #assert median(1, 2, 4, 1, 1) == 1"
   ]
  },
  {
   "cell_type": "code",
   "execution_count": 39,
   "metadata": {},
   "outputs": [],
   "source": [
    "#Check if our test-suites are able to detect fault\n",
    "from fuzzingbook.MutationAnalysis import ExpectError"
   ]
  },
  {
   "cell_type": "code",
   "execution_count": 40,
   "metadata": {},
   "outputs": [
    {
     "name": "stdout",
     "output_type": "stream",
     "text": [
      "Score is: 0.1\n"
     ]
    },
    {
     "name": "stderr",
     "output_type": "stream",
     "text": [
      "Traceback (most recent call last):\n",
      "  File \"<ipython-input-40-8731dba7778e>\", line 3, in <module>\n",
      "    weak_oracle(faulty_median)\n",
      "  File \"<ipython-input-38-b5a8bf67ff86>\", line 3, in weak_oracle\n",
      "    assert fmedian(*tst_suite_1) == median(*tst_suite_1)\n",
      "AssertionError (expected)\n"
     ]
    }
   ],
   "source": [
    "#For test-suite 1\n",
    "with ExpectError():\n",
    "    weak_oracle(faulty_median)\n",
    "print(\"Score is:\", 1/10)"
   ]
  },
  {
   "cell_type": "code",
   "execution_count": 41,
   "metadata": {},
   "outputs": [],
   "source": [
    "# from fuzzingbook.MutationAnalysis import Coverage\n",
    "# with Coverage() as cov:\n",
    "#     weak_oracle(median)\n",
    "# cov.show_coverage(median)"
   ]
  },
  {
   "cell_type": "code",
   "execution_count": 43,
   "metadata": {},
   "outputs": [
    {
     "name": "stdout",
     "output_type": "stream",
     "text": [
      "Score is: 0.2\n"
     ]
    },
    {
     "name": "stderr",
     "output_type": "stream",
     "text": [
      "Traceback (most recent call last):\n",
      "  File \"<ipython-input-43-5ac8d0388df4>\", line 2, in <module>\n",
      "    strong_oracle(faulty_median)\n",
      "  File \"<ipython-input-38-b5a8bf67ff86>\", line 7, in strong_oracle\n",
      "    assert fmedian(*i) == median(*i) #assert median(1, 2, 4, 1, 1) == 1\n",
      "AssertionError (expected)\n"
     ]
    }
   ],
   "source": [
    "with ExpectError():\n",
    "    strong_oracle(faulty_median)\n",
    "print(\"Score is:\", 2/10)"
   ]
  },
  {
   "cell_type": "markdown",
   "metadata": {},
   "source": [
    "Practically it is not efficient to do step 3 manually. Write python code to automate the process. And for each mutant show how it's different from the original."
   ]
  },
  {
   "cell_type": "code",
   "execution_count": 44,
   "metadata": {},
   "outputs": [],
   "source": [
    "import ast\n",
    "import astor\n",
    "import inspect"
   ]
  },
  {
   "cell_type": "code",
   "execution_count": 45,
   "metadata": {},
   "outputs": [],
   "source": [
    "#The PMIterator, which is the iterator class for MuFunctionAnalyzer\n",
    "class PMIterator():\n",
    "    def __init__(self, pm):\n",
    "        self.pm = pm\n",
    "        self.idx = 0\n",
    "        \n",
    "    def __next__(self): #The next() method returns the corresponding Mutant\n",
    "        i = self.idx\n",
    "        if i >= self.pm.nmutations:\n",
    "            self.pm.finish()\n",
    "            raise StopIteration()\n",
    "        self.idx += 1\n",
    "        mutant = Mutant(self.pm, self.idx, log=self.pm.log)\n",
    "        self.pm.register(mutant)\n",
    "        return mutant\n",
    "    \n",
    "#Class for Mutation Analysis of test suite\n",
    "class MuFunctionAnalyzer():\n",
    "    def __init__(self, fn, log=False):\n",
    "        self.fn = fn\n",
    "        self.name = fn.__name__\n",
    "        src = inspect.getsource(fn)\n",
    "        self.ast = ast.parse(src)\n",
    "        self.src = astor.to_source(self.ast)  # normalize\n",
    "        self.mutator = self.mutator_object()\n",
    "        self.nmutations = self.get_mutation_count()\n",
    "        self.un_detected = set()\n",
    "        self.mutants = []\n",
    "        self.log = log\n",
    "\n",
    "    def mutator_object(self, locations=None):\n",
    "        return StmtDeletionMutator(locations)\n",
    "\n",
    "    def register(self, m):\n",
    "        self.mutants.append(m)\n",
    "\n",
    "    def finish(self):\n",
    "        self.un_detected = {mutant for mutant in self.mutants if not mutant.detected}\n",
    "    \n",
    "    def get_mutation_count(self): #fun gives no. of possible mutations\n",
    "        self.mutator.visit(self.ast)\n",
    "        return self.mutator.count\n",
    "    \n",
    "    def __iter__(self):\n",
    "        return PMIterator(self)\n",
    "    \n",
    "    def score(self):\n",
    "        return (self.nmutations - len(self.un_detected)) / self.nmutations"
   ]
  },
  {
   "cell_type": "code",
   "execution_count": 46,
   "metadata": {},
   "outputs": [],
   "source": [
    "#The Mutator provides the base class for implementing individual mutations.\n",
    "class Mutator(ast.NodeTransformer):\n",
    "    def __init__(self, mutate_location=-1):\n",
    "        self.count = 0\n",
    "        self.mutate_location = mutate_location\n",
    "\n",
    "    def mutable_visit(self, node):\n",
    "        self.count += 1  # statements start at line no 1\n",
    "        if self.count == self.mutate_location:\n",
    "            return self.mutation_visit(node)\n",
    "        return self.generic_visit(node)\n",
    "\n",
    "    \n",
    "#Replaces given stmt with pass. It performs mutation by replacing the given statement with pass\n",
    "class StmtDeletionMutator(Mutator):\n",
    "    def visit_Return(self, node): return self.mutable_visit(node)\n",
    "    def visit_Delete(self, node): return self.mutable_visit(node)\n",
    "\n",
    "    def visit_Assign(self, node): return self.mutable_visit(node)\n",
    "    def visit_AnnAssign(self, node): return self.mutable_visit(node)\n",
    "    def visit_AugAssign(self, node): return self.mutable_visit(node)\n",
    "\n",
    "    def visit_Raise(self, node): return self.mutable_visit(node)\n",
    "    def visit_Assert(self, node): return self.mutable_visit(node)\n",
    "\n",
    "    def visit_Global(self, node): return self.mutable_visit(node)\n",
    "    def visit_Nonlocal(self, node): return self.mutable_visit(node)\n",
    "\n",
    "    def visit_Expr(self, node): return self.mutable_visit(node)\n",
    "\n",
    "    def visit_Pass(self, node): return self.mutable_visit(node)\n",
    "    def visit_Break(self, node): return self.mutable_visit(node)\n",
    "    def visit_Continue(self, node): return self.mutable_visit(node)\n",
    "\n",
    "    #Replaces given stmt with pass. actual mutation consists of replacing the node with a pass statement:\n",
    "class StmtDeletionMutator(StmtDeletionMutator):\n",
    "    def mutation_visit(self, node): return ast.Pass()  "
   ]
  },
  {
   "cell_type": "code",
   "execution_count": 47,
   "metadata": {},
   "outputs": [
    {
     "data": {
      "text/plain": [
       "10"
      ]
     },
     "execution_count": 47,
     "metadata": {},
     "output_type": "execute_result"
    }
   ],
   "source": [
    "MuFunctionAnalyzer(median).nmutations #For median, this visitor produces five mutations – namely, replacing the five return statements with pass"
   ]
  },
  {
   "cell_type": "code",
   "execution_count": 48,
   "metadata": {},
   "outputs": [],
   "source": [
    "#The Mutant class contains logic for generating mutants when given the locations to mutate.\n",
    "class Mutant():\n",
    "    def __init__(self, pm, location, log=False):\n",
    "        self.pm = pm\n",
    "        self.i = location\n",
    "        self.name = \"%s_%s\" % (self.pm.name, self.i)\n",
    "        self._src = None\n",
    "        self.tests = []\n",
    "        self.detected = False\n",
    "        self.log = log    \n",
    "        \n",
    "    def generate_mutant(self, location):\n",
    "        mutant_ast = self.pm.mutator_object(location).visit(ast.parse(self.pm.src))  # copy\n",
    "        return astor.to_source(mutant_ast)\n",
    "    \n",
    "    def src(self):\n",
    "        if self._src is None:\n",
    "            self._src = self.generate_mutant(self.i)\n",
    "        return self._src\n",
    "\n",
    "    def __enter__(self): \n",
    "        #It creates the mutant as a function & places it in global namespace, so that \n",
    "        #the assert statement executes the mutated function rather than the original.\n",
    "        if self.log:\n",
    "            print('->\\t%s' % self.name)\n",
    "        c = compile(self.src(), '<mutant>', 'exec')\n",
    "        eval(c, globals())\n",
    "    \n",
    "    def __exit__(self, exc_type, exc_value, traceback):\n",
    "        #The __exit__() function checks whether an exception has occurred\n",
    "        #if so, it marks the mutation as detected. Finally, it restores the original function definition.\n",
    "        if self.log:\n",
    "            print('<-\\t%s' % self.name)\n",
    "        if exc_type is not None:\n",
    "            self.detected = True\n",
    "            if self.log:\n",
    "                print(\"Detected %s\" % self.name, exc_type, exc_value)\n",
    "        globals()[self.pm.name] = self.pm.fn\n",
    "        if self.log:\n",
    "            print()\n",
    "        return True"
   ]
  },
  {
   "cell_type": "code",
   "execution_count": 50,
   "metadata": {},
   "outputs": [
    {
     "name": "stdout",
     "output_type": "stream",
     "text": [
      "->\tfaulty_median_1\n",
      "<-\tfaulty_median_1\n",
      "Detected faulty_median_1 <class 'AssertionError'> \n",
      "\n",
      "->\tfaulty_median_2\n",
      "<-\tfaulty_median_2\n",
      "Detected faulty_median_2 <class 'AssertionError'> \n",
      "\n",
      "->\tfaulty_median_3\n",
      "<-\tfaulty_median_3\n",
      "Detected faulty_median_3 <class 'AssertionError'> \n",
      "\n",
      "->\tfaulty_median_4\n",
      "<-\tfaulty_median_4\n",
      "Detected faulty_median_4 <class 'AssertionError'> \n",
      "\n",
      "->\tfaulty_median_5\n",
      "<-\tfaulty_median_5\n",
      "Detected faulty_median_5 <class 'AssertionError'> \n",
      "\n",
      "->\tfaulty_median_6\n",
      "<-\tfaulty_median_6\n",
      "Detected faulty_median_6 <class 'AssertionError'> \n",
      "\n",
      "->\tfaulty_median_7\n",
      "<-\tfaulty_median_7\n",
      "Detected faulty_median_7 <class 'AssertionError'> \n",
      "\n",
      "->\tfaulty_median_8\n",
      "<-\tfaulty_median_8\n",
      "Detected faulty_median_8 <class 'AssertionError'> \n",
      "\n",
      "->\tfaulty_median_9\n",
      "<-\tfaulty_median_9\n",
      "Detected faulty_median_9 <class 'AssertionError'> \n",
      "\n",
      "->\tfaulty_median_10\n",
      "<-\tfaulty_median_10\n",
      "Detected faulty_median_10 <class 'AssertionError'> \n",
      "\n",
      "\n",
      "\n",
      "The score is:  1.0\n"
     ]
    }
   ],
   "source": [
    "for mutant in MuFunctionAnalyzer(faulty_median, log=True):\n",
    "    with mutant:\n",
    "        weak_oracle(faulty_median)\n",
    "print(\"\\n\\nThe score is: \" ,mutant.pm.score())"
   ]
  },
  {
   "cell_type": "code",
   "execution_count": 51,
   "metadata": {},
   "outputs": [
    {
     "name": "stdout",
     "output_type": "stream",
     "text": [
      "->\ttriangle_1\n",
      "<-\ttriangle_1\n",
      "Detected triangle_1 <class 'AssertionError'> \n",
      "\n",
      "->\ttriangle_2\n",
      "<-\ttriangle_2\n",
      "Detected triangle_2 <class 'AssertionError'> \n",
      "\n",
      "->\ttriangle_3\n",
      "<-\ttriangle_3\n",
      "Detected triangle_3 <class 'AssertionError'> \n",
      "\n",
      "->\ttriangle_4\n",
      "<-\ttriangle_4\n",
      "Detected triangle_4 <class 'AssertionError'> \n",
      "\n",
      "->\ttriangle_5\n",
      "<-\ttriangle_5\n",
      "Detected triangle_5 <class 'AssertionError'> \n",
      "\n",
      "\n",
      "\n",
      "The score is:  1.0\n"
     ]
    }
   ],
   "source": [
    "def triangle(a, b, c):\n",
    "    if a == b:\n",
    "        if b == c:\n",
    "            return 'Equilateral'\n",
    "        else:\n",
    "            return 'Isosceles'\n",
    "    else:\n",
    "        if b == c:\n",
    "            return \"Isosceles\"\n",
    "        else:\n",
    "            if a == c:\n",
    "                return \"Isosceles\"\n",
    "            else:\n",
    "                return \"Scalene\"\n",
    "#basic test function\n",
    "def strong_oracle1(fn):\n",
    "    assert fn(1, 1, 1) == 'Equilateral'\n",
    "    assert fn(1, 2, 1) == 'Isosceles'\n",
    "    assert fn(2, 2, 1) == 'Isosceles'\n",
    "    assert fn(1, 2, 2) == 'Isosceles'\n",
    "    assert fn(1, 2, 3) == 'Scalene'\n",
    "    \n",
    "for mutant in MuFunctionAnalyzer(triangle, log=True):\n",
    "    with mutant:\n",
    "        strong_oracle1(triangle)\n",
    "print(\"\\n\\nThe score is: \" ,mutant.pm.score())"
   ]
  },
  {
   "cell_type": "code",
   "execution_count": 19,
   "metadata": {},
   "outputs": [
    {
     "name": "stdout",
     "output_type": "stream",
     "text": [
      "--- median\n",
      "\n",
      "+++ median_1\n",
      "\n",
      "@@ -1,6 +1,6 @@\n",
      "\n",
      " def median(a, b, c, d, e):\n",
      "     if a > b:\n",
      "-        a, b = b, a\n",
      "+        pass\n",
      "     if c > d:\n",
      "         c, d = d, c\n",
      "     if a < c:\n",
      "--- median\n",
      "\n",
      "+++ median_2\n",
      "\n",
      "@@ -2,7 +2,7 @@\n",
      "\n",
      "     if a > b:\n",
      "         a, b = b, a\n",
      "     if c > d:\n",
      "-        c, d = d, c\n",
      "+        pass\n",
      "     if a < c:\n",
      "         a = e\n",
      "         if a > b:\n",
      "--- median\n",
      "\n",
      "+++ median_3\n",
      "\n",
      "@@ -4,7 +4,7 @@\n",
      "\n",
      "     if c > d:\n",
      "         c, d = d, c\n",
      "     if a < c:\n",
      "-        a = e\n",
      "+        pass\n",
      "         if a > b:\n",
      "             a, b = b, a\n",
      "     else:\n",
      "--- median\n",
      "\n",
      "+++ median_4\n",
      "\n",
      "@@ -6,7 +6,7 @@\n",
      "\n",
      "     if a < c:\n",
      "         a = e\n",
      "         if a > b:\n",
      "-            a, b = b, a\n",
      "+            pass\n",
      "     else:\n",
      "         c = e\n",
      "         if c > d:\n",
      "--- median\n",
      "\n",
      "+++ median_5\n",
      "\n",
      "@@ -8,7 +8,7 @@\n",
      "\n",
      "         if a > b:\n",
      "             a, b = b, a\n",
      "     else:\n",
      "-        c = e\n",
      "+        pass\n",
      "         if c > d:\n",
      "             c, d = d, c\n",
      "     if a < c:\n",
      "--- median\n",
      "\n",
      "+++ median_6\n",
      "\n",
      "@@ -10,7 +10,7 @@\n",
      "\n",
      "     else:\n",
      "         c = e\n",
      "         if c > d:\n",
      "-            c, d = d, c\n",
      "+            pass\n",
      "     if a < c:\n",
      "         if b > c:\n",
      "             return c\n",
      "--- median\n",
      "\n",
      "+++ median_7\n",
      "\n",
      "@@ -13,7 +13,7 @@\n",
      "\n",
      "             c, d = d, c\n",
      "     if a < c:\n",
      "         if b > c:\n",
      "-            return c\n",
      "+            pass\n",
      "         else:\n",
      "             return b\n",
      "     elif d > a:\n",
      "--- median\n",
      "\n",
      "+++ median_8\n",
      "\n",
      "@@ -15,7 +15,7 @@\n",
      "\n",
      "         if b > c:\n",
      "             return c\n",
      "         else:\n",
      "-            return b\n",
      "+            pass\n",
      "     elif d > a:\n",
      "         return a\n",
      "     else:\n",
      "--- median\n",
      "\n",
      "+++ median_9\n",
      "\n",
      "@@ -17,7 +17,7 @@\n",
      "\n",
      "         else:\n",
      "             return b\n",
      "     elif d > a:\n",
      "-        return a\n",
      "+        pass\n",
      "     else:\n",
      "         return d\n",
      " \n",
      "--- median\n",
      "\n",
      "+++ median_10\n",
      "\n",
      "@@ -19,5 +19,5 @@\n",
      "\n",
      "     elif d > a:\n",
      "         return a\n",
      "     else:\n",
      "-        return d\n",
      "+        pass\n",
      " \n"
     ]
    }
   ],
   "source": [
    "import difflib\n",
    "for mutant in MuFunctionAnalyzer(median):\n",
    "    shape_src = mutant.pm.src\n",
    "    for line in difflib.unified_diff(mutant.pm.src.split('\\n'),\n",
    "                                     mutant.src().split('\\n'),\n",
    "                                     fromfile=mutant.pm.name,\n",
    "                                     tofile=mutant.name, n=3):\n",
    "        print(line)"
   ]
  },
  {
   "cell_type": "code",
   "execution_count": null,
   "metadata": {},
   "outputs": [],
   "source": []
  },
  {
   "cell_type": "code",
   "execution_count": null,
   "metadata": {},
   "outputs": [],
   "source": []
  }
 ],
 "metadata": {
  "kernelspec": {
   "display_name": "Python 3",
   "language": "python",
   "name": "python3"
  },
  "language_info": {
   "codemirror_mode": {
    "name": "ipython",
    "version": 3
   },
   "file_extension": ".py",
   "mimetype": "text/x-python",
   "name": "python",
   "nbconvert_exporter": "python",
   "pygments_lexer": "ipython3",
   "version": "3.7.4"
  }
 },
 "nbformat": 4,
 "nbformat_minor": 2
}
